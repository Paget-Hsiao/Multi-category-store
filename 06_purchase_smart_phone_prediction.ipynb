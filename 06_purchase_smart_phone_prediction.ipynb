{
 "cells": [
  {
   "cell_type": "markdown",
   "metadata": {},
   "source": [
    "# Capstone Project - Predicting Smartphone Purchase of Multi Category Store\n",
    "## Part 6 - Prediction of Smartphone Purchases"
   ]
  },
  {
   "cell_type": "markdown",
   "metadata": {},
   "source": [
    "### Table of Contents\n",
    "\n",
    "* [Section 1.  Import dataset](#section_1)\n",
    "* [Section 2.  EDA and feature engineering](#section_2)\n",
    "    * [2.1 Creat features](#section_2_a)\n",
    "* [Section 3. Modelling](#section_3)\n",
    "    * [3.1 Pipeline](#section_3_a)\n",
    "    * [3.2 Prediction](#section_3_b)\n",
    "        * [3.2.1 Logistic regression](#section_3_2_1)\n",
    "        * [3.2.2 Random forest classifier](#section_3_2_2)\n",
    "        * [3.2.3 XG boost classifier](#section_3_2_3)\n",
    "        * [3.2.4 Model comparison](#section_3_2_4)\n",
    "        * [3.2.5 Feature importance](#section_3_2_5)\n",
    "    * [3.3 Summary](#section_3_c)\n"
   ]
  },
  {
   "cell_type": "markdown",
   "metadata": {},
   "source": [
    "## Section 1.  Import dataset <a class=\"anchor\" id=\"section_1\"></a> "
   ]
  },
  {
   "cell_type": "markdown",
   "metadata": {},
   "source": [
    "Import libraries"
   ]
  },
  {
   "cell_type": "code",
   "execution_count": 2,
   "metadata": {},
   "outputs": [],
   "source": [
    "import numpy as np\n",
    "import pandas as pd\n",
    "import matplotlib.pyplot as plt\n",
    "import seaborn as sns\n",
    "import calendar\n",
    "\n",
    "# Garbage Collector to free up memory\n",
    "import gc                         \n",
    "gc.enable()                       # Activate "
   ]
  },
  {
   "cell_type": "code",
   "execution_count": 2,
   "metadata": {},
   "outputs": [],
   "source": [
    "column_name_and_dtype = {'event_type': 'category',\n",
    "                         'product_id': 'category',\n",
    "                         'category_id': 'category',\n",
    "                         'category_code': 'category',\n",
    "                         'brand': 'category',\n",
    "                         'user_id': 'category',\n",
    "                         'user_session': 'category',\n",
    "                         'views': 'int8',\n",
    "                         'carts': 'int8',\n",
    "                         'sales': 'int8',\n",
    "                        }\n"
   ]
  },
  {
   "cell_type": "code",
   "execution_count": 3,
   "metadata": {},
   "outputs": [
    {
     "name": "stdout",
     "output_type": "stream",
     "text": [
      "Wall time: 7min 20s\n"
     ]
    }
   ],
   "source": [
    "%%time\n",
    "df = pd.read_csv('csv_files/dataset.gz', \n",
    "                 compression = 'gzip', \n",
    "                 low_memory = True, \n",
    "                 dtype = column_name_and_dtype,\n",
    "                 parse_dates = ['event_time'])\n"
   ]
  },
  {
   "cell_type": "code",
   "execution_count": 4,
   "metadata": {},
   "outputs": [],
   "source": [
    "df['category'] = df['category_code'].apply(lambda x: x.split('.')[0])\n",
    "df['product'] = df['category_code'].apply(lambda x: x.split('.')[-1])\n",
    "df['revenue'] = df['price'] * df['sales']"
   ]
  },
  {
   "cell_type": "code",
   "execution_count": 5,
   "metadata": {},
   "outputs": [
    {
     "data": {
      "text/html": [
       "<div>\n",
       "<style scoped>\n",
       "    .dataframe tbody tr th:only-of-type {\n",
       "        vertical-align: middle;\n",
       "    }\n",
       "\n",
       "    .dataframe tbody tr th {\n",
       "        vertical-align: top;\n",
       "    }\n",
       "\n",
       "    .dataframe thead th {\n",
       "        text-align: right;\n",
       "    }\n",
       "</style>\n",
       "<table border=\"1\" class=\"dataframe\">\n",
       "  <thead>\n",
       "    <tr style=\"text-align: right;\">\n",
       "      <th></th>\n",
       "      <th>event_time</th>\n",
       "      <th>event_type</th>\n",
       "      <th>product_id</th>\n",
       "      <th>category_code</th>\n",
       "      <th>brand</th>\n",
       "      <th>price</th>\n",
       "      <th>user_id</th>\n",
       "      <th>user_session</th>\n",
       "      <th>views</th>\n",
       "      <th>carts</th>\n",
       "      <th>sales</th>\n",
       "      <th>week_id</th>\n",
       "      <th>category</th>\n",
       "      <th>product</th>\n",
       "      <th>revenue</th>\n",
       "    </tr>\n",
       "  </thead>\n",
       "  <tbody>\n",
       "    <tr>\n",
       "      <th>0</th>\n",
       "      <td>2019-10-01 00:00:00+00:00</td>\n",
       "      <td>view</td>\n",
       "      <td>3900821</td>\n",
       "      <td>appliances.environment.water_heater</td>\n",
       "      <td>aqua</td>\n",
       "      <td>33.20</td>\n",
       "      <td>554748717</td>\n",
       "      <td>9333dfbd-b87a-4708-9857-6336556b0fcc</td>\n",
       "      <td>1</td>\n",
       "      <td>0</td>\n",
       "      <td>0</td>\n",
       "      <td>40</td>\n",
       "      <td>appliances</td>\n",
       "      <td>water_heater</td>\n",
       "      <td>0.0</td>\n",
       "    </tr>\n",
       "    <tr>\n",
       "      <th>1</th>\n",
       "      <td>2019-10-01 00:00:01+00:00</td>\n",
       "      <td>view</td>\n",
       "      <td>1307067</td>\n",
       "      <td>computers.notebook</td>\n",
       "      <td>lenovo</td>\n",
       "      <td>251.74</td>\n",
       "      <td>550050854</td>\n",
       "      <td>7c90fc70-0e80-4590-96f3-13c02c18c713</td>\n",
       "      <td>1</td>\n",
       "      <td>0</td>\n",
       "      <td>0</td>\n",
       "      <td>40</td>\n",
       "      <td>computers</td>\n",
       "      <td>notebook</td>\n",
       "      <td>0.0</td>\n",
       "    </tr>\n",
       "    <tr>\n",
       "      <th>2</th>\n",
       "      <td>2019-10-01 00:00:04+00:00</td>\n",
       "      <td>view</td>\n",
       "      <td>1004237</td>\n",
       "      <td>electronics.smartphone</td>\n",
       "      <td>apple</td>\n",
       "      <td>1081.98</td>\n",
       "      <td>535871217</td>\n",
       "      <td>c6bd7419-2748-4c56-95b4-8cec9ff8b80d</td>\n",
       "      <td>1</td>\n",
       "      <td>0</td>\n",
       "      <td>0</td>\n",
       "      <td>40</td>\n",
       "      <td>electronics</td>\n",
       "      <td>smartphone</td>\n",
       "      <td>0.0</td>\n",
       "    </tr>\n",
       "    <tr>\n",
       "      <th>3</th>\n",
       "      <td>2019-10-01 00:00:05+00:00</td>\n",
       "      <td>view</td>\n",
       "      <td>1480613</td>\n",
       "      <td>computers.desktop</td>\n",
       "      <td>pulser</td>\n",
       "      <td>908.62</td>\n",
       "      <td>512742880</td>\n",
       "      <td>0d0d91c2-c9c2-4e81-90a5-86594dec0db9</td>\n",
       "      <td>1</td>\n",
       "      <td>0</td>\n",
       "      <td>0</td>\n",
       "      <td>40</td>\n",
       "      <td>computers</td>\n",
       "      <td>desktop</td>\n",
       "      <td>0.0</td>\n",
       "    </tr>\n",
       "    <tr>\n",
       "      <th>4</th>\n",
       "      <td>2019-10-01 00:00:10+00:00</td>\n",
       "      <td>view</td>\n",
       "      <td>28719074</td>\n",
       "      <td>apparel.shoes.keds</td>\n",
       "      <td>baden</td>\n",
       "      <td>102.71</td>\n",
       "      <td>520571932</td>\n",
       "      <td>ac1cd4e5-a3ce-4224-a2d7-ff660a105880</td>\n",
       "      <td>1</td>\n",
       "      <td>0</td>\n",
       "      <td>0</td>\n",
       "      <td>40</td>\n",
       "      <td>apparel</td>\n",
       "      <td>keds</td>\n",
       "      <td>0.0</td>\n",
       "    </tr>\n",
       "  </tbody>\n",
       "</table>\n",
       "</div>"
      ],
      "text/plain": [
       "                 event_time event_type product_id  \\\n",
       "0 2019-10-01 00:00:00+00:00       view    3900821   \n",
       "1 2019-10-01 00:00:01+00:00       view    1307067   \n",
       "2 2019-10-01 00:00:04+00:00       view    1004237   \n",
       "3 2019-10-01 00:00:05+00:00       view    1480613   \n",
       "4 2019-10-01 00:00:10+00:00       view   28719074   \n",
       "\n",
       "                         category_code   brand    price    user_id  \\\n",
       "0  appliances.environment.water_heater    aqua    33.20  554748717   \n",
       "1                   computers.notebook  lenovo   251.74  550050854   \n",
       "2               electronics.smartphone   apple  1081.98  535871217   \n",
       "3                    computers.desktop  pulser   908.62  512742880   \n",
       "4                   apparel.shoes.keds   baden   102.71  520571932   \n",
       "\n",
       "                           user_session  views  carts  sales  week_id  \\\n",
       "0  9333dfbd-b87a-4708-9857-6336556b0fcc      1      0      0       40   \n",
       "1  7c90fc70-0e80-4590-96f3-13c02c18c713      1      0      0       40   \n",
       "2  c6bd7419-2748-4c56-95b4-8cec9ff8b80d      1      0      0       40   \n",
       "3  0d0d91c2-c9c2-4e81-90a5-86594dec0db9      1      0      0       40   \n",
       "4  ac1cd4e5-a3ce-4224-a2d7-ff660a105880      1      0      0       40   \n",
       "\n",
       "      category       product  revenue  \n",
       "0   appliances  water_heater      0.0  \n",
       "1    computers      notebook      0.0  \n",
       "2  electronics    smartphone      0.0  \n",
       "3    computers       desktop      0.0  \n",
       "4      apparel          keds      0.0  "
      ]
     },
     "execution_count": 5,
     "metadata": {},
     "output_type": "execute_result"
    }
   ],
   "source": [
    "df.head(5)"
   ]
  },
  {
   "cell_type": "markdown",
   "metadata": {},
   "source": [
    "extract dataset for smartphone products"
   ]
  },
  {
   "cell_type": "code",
   "execution_count": 6,
   "metadata": {},
   "outputs": [],
   "source": [
    "df_phone = df[df['product']=='smartphone']"
   ]
  },
  {
   "cell_type": "markdown",
   "metadata": {},
   "source": [
    "instances associated with smartphone products account for up to 40.6% of total instances!"
   ]
  },
  {
   "cell_type": "code",
   "execution_count": 7,
   "metadata": {},
   "outputs": [
    {
     "data": {
      "text/plain": [
       "((68650184, 15), (27838899, 15))"
      ]
     },
     "execution_count": 7,
     "metadata": {},
     "output_type": "execute_result"
    }
   ],
   "source": [
    "df.shape, df_phone.shape"
   ]
  },
  {
   "cell_type": "markdown",
   "metadata": {},
   "source": [
    "delete the complete dataset to free up memory"
   ]
  },
  {
   "cell_type": "code",
   "execution_count": 8,
   "metadata": {},
   "outputs": [
    {
     "data": {
      "text/plain": [
       "22"
      ]
     },
     "execution_count": 8,
     "metadata": {},
     "output_type": "execute_result"
    }
   ],
   "source": [
    "del df\n",
    "gc.collect()"
   ]
  },
  {
   "cell_type": "code",
   "execution_count": 2,
   "metadata": {},
   "outputs": [
    {
     "data": {
      "text/plain": [
       "0.405518199339422"
      ]
     },
     "execution_count": 2,
     "metadata": {},
     "output_type": "execute_result"
    }
   ],
   "source": [
    "27838899/68650184"
   ]
  },
  {
   "cell_type": "markdown",
   "metadata": {},
   "source": [
    "## Section 2.  EDA and feature engineering <a class=\"anchor\" id=\"section_2\"></a> \n"
   ]
  },
  {
   "cell_type": "markdown",
   "metadata": {},
   "source": [
    "Map \"user_session\" to \"sid\" to accelerate processing later"
   ]
  },
  {
   "cell_type": "code",
   "execution_count": 9,
   "metadata": {},
   "outputs": [],
   "source": [
    "session_dict = dict(zip(list(df_phone['user_session'].unique()),np.arange(df_phone['user_session'].nunique())))\n",
    "df_phone.loc[:,'sid'] = df_phone['user_session'].map(session_dict).astype('int')\n"
   ]
  },
  {
   "cell_type": "code",
   "execution_count": 10,
   "metadata": {},
   "outputs": [],
   "source": [
    "df_phone['view_price'] = df_phone['views'] * df_phone['price']\n",
    "df_phone['cart_price'] = df_phone['carts'] * df_phone['price']"
   ]
  },
  {
   "cell_type": "markdown",
   "metadata": {},
   "source": [
    "### Section 2.1  Creat features <a class=\"anchor\" id=\"section_2_a\"></a> \n"
   ]
  },
  {
   "cell_type": "code",
   "execution_count": 11,
   "metadata": {},
   "outputs": [],
   "source": [
    "df_session = df_phone.groupby(['sid']) \\\n",
    "                     .agg(time_start = ('event_time', 'min'),\n",
    "                          time_end = ('event_time', 'max'),\n",
    "                          n_products = ('product_id', 'nunique'),\n",
    "                          n_brands = ('brand', 'nunique'),\n",
    "                          price_max = ('price', 'max'),\n",
    "                          price_min = ('price', 'min'),\n",
    "                          views = ('views', 'sum'),\n",
    "                          carts = ('carts', 'sum'),\n",
    "                          is_cart = ('carts', 'max'),\n",
    "                          is_purchased = ('sales', 'max'),\n",
    "                          view_price = ('view_price', 'sum'),\n",
    "                          cart_price = ('cart_price', 'sum'),\n",
    "                         ) \\\n",
    "                     .reset_index()\n",
    "\n",
    "df_session.dropna(how='any', inplace = True)\n"
   ]
  },
  {
   "cell_type": "code",
   "execution_count": 12,
   "metadata": {},
   "outputs": [],
   "source": [
    "df_session['session_duration'] = (df_session['time_end'] - df_session['time_start']).dt.total_seconds().astype('int')"
   ]
  },
  {
   "cell_type": "code",
   "execution_count": 13,
   "metadata": {},
   "outputs": [],
   "source": [
    "df_session['is_cart'] = df_session['is_cart'].astype('int8')\n",
    "df_session['is_purchased'] = df_session['is_purchased'].astype('int8')"
   ]
  },
  {
   "cell_type": "code",
   "execution_count": 14,
   "metadata": {},
   "outputs": [
    {
     "data": {
      "text/plain": [
       "(136414, 14)"
      ]
     },
     "execution_count": 14,
     "metadata": {},
     "output_type": "execute_result"
    }
   ],
   "source": [
    "df_session[df_session['is_purchased'] > df_session['carts']].shape"
   ]
  },
  {
   "cell_type": "code",
   "execution_count": 15,
   "metadata": {},
   "outputs": [],
   "source": [
    "df_session['week_id'] = df_session['time_start'].dt.week.astype('int8')\n",
    "df_session['weekday'] = df_session['time_start'].dt.weekday.astype('int8')\n",
    "df_session['hour'] = df_session['time_start'].dt.hour.astype('int8')"
   ]
  },
  {
   "cell_type": "code",
   "execution_count": 16,
   "metadata": {},
   "outputs": [
    {
     "data": {
      "text/html": [
       "<div>\n",
       "<style scoped>\n",
       "    .dataframe tbody tr th:only-of-type {\n",
       "        vertical-align: middle;\n",
       "    }\n",
       "\n",
       "    .dataframe tbody tr th {\n",
       "        vertical-align: top;\n",
       "    }\n",
       "\n",
       "    .dataframe thead th {\n",
       "        text-align: right;\n",
       "    }\n",
       "</style>\n",
       "<table border=\"1\" class=\"dataframe\">\n",
       "  <thead>\n",
       "    <tr style=\"text-align: right;\">\n",
       "      <th></th>\n",
       "      <th>sid</th>\n",
       "      <th>time_start</th>\n",
       "      <th>time_end</th>\n",
       "      <th>n_products</th>\n",
       "      <th>n_brands</th>\n",
       "      <th>price_max</th>\n",
       "      <th>price_min</th>\n",
       "      <th>views</th>\n",
       "      <th>carts</th>\n",
       "      <th>is_cart</th>\n",
       "      <th>is_purchased</th>\n",
       "      <th>view_price</th>\n",
       "      <th>cart_price</th>\n",
       "      <th>session_duration</th>\n",
       "      <th>week_id</th>\n",
       "      <th>weekday</th>\n",
       "      <th>hour</th>\n",
       "    </tr>\n",
       "  </thead>\n",
       "  <tbody>\n",
       "    <tr>\n",
       "      <th>2823975</th>\n",
       "      <td>2823975</td>\n",
       "      <td>2019-10-29 01:50:54+00:00</td>\n",
       "      <td>2019-10-29 01:50:54+00:00</td>\n",
       "      <td>1</td>\n",
       "      <td>1</td>\n",
       "      <td>220.08</td>\n",
       "      <td>220.08</td>\n",
       "      <td>1.0</td>\n",
       "      <td>0.0</td>\n",
       "      <td>0</td>\n",
       "      <td>0</td>\n",
       "      <td>220.08</td>\n",
       "      <td>0.0</td>\n",
       "      <td>0</td>\n",
       "      <td>44</td>\n",
       "      <td>1</td>\n",
       "      <td>1</td>\n",
       "    </tr>\n",
       "    <tr>\n",
       "      <th>3727531</th>\n",
       "      <td>3727531</td>\n",
       "      <td>2019-11-06 12:20:26+00:00</td>\n",
       "      <td>2019-11-06 12:20:26+00:00</td>\n",
       "      <td>1</td>\n",
       "      <td>1</td>\n",
       "      <td>131.66</td>\n",
       "      <td>131.66</td>\n",
       "      <td>1.0</td>\n",
       "      <td>0.0</td>\n",
       "      <td>0</td>\n",
       "      <td>0</td>\n",
       "      <td>131.66</td>\n",
       "      <td>0.0</td>\n",
       "      <td>0</td>\n",
       "      <td>45</td>\n",
       "      <td>2</td>\n",
       "      <td>12</td>\n",
       "    </tr>\n",
       "    <tr>\n",
       "      <th>3584377</th>\n",
       "      <td>3584377</td>\n",
       "      <td>2019-11-05 07:34:21+00:00</td>\n",
       "      <td>2019-11-05 07:34:47+00:00</td>\n",
       "      <td>2</td>\n",
       "      <td>1</td>\n",
       "      <td>1336.71</td>\n",
       "      <td>473.37</td>\n",
       "      <td>2.0</td>\n",
       "      <td>0.0</td>\n",
       "      <td>0</td>\n",
       "      <td>0</td>\n",
       "      <td>1810.08</td>\n",
       "      <td>0.0</td>\n",
       "      <td>26</td>\n",
       "      <td>45</td>\n",
       "      <td>1</td>\n",
       "      <td>7</td>\n",
       "    </tr>\n",
       "    <tr>\n",
       "      <th>7187536</th>\n",
       "      <td>7187536</td>\n",
       "      <td>2019-11-30 03:39:32+00:00</td>\n",
       "      <td>2019-11-30 03:45:10+00:00</td>\n",
       "      <td>4</td>\n",
       "      <td>1</td>\n",
       "      <td>1634.53</td>\n",
       "      <td>1428.30</td>\n",
       "      <td>9.0</td>\n",
       "      <td>0.0</td>\n",
       "      <td>0</td>\n",
       "      <td>0</td>\n",
       "      <td>14297.71</td>\n",
       "      <td>0.0</td>\n",
       "      <td>338</td>\n",
       "      <td>48</td>\n",
       "      <td>5</td>\n",
       "      <td>3</td>\n",
       "    </tr>\n",
       "    <tr>\n",
       "      <th>6807268</th>\n",
       "      <td>6807268</td>\n",
       "      <td>2019-11-26 18:54:42+00:00</td>\n",
       "      <td>2019-11-26 18:55:41+00:00</td>\n",
       "      <td>2</td>\n",
       "      <td>1</td>\n",
       "      <td>246.94</td>\n",
       "      <td>197.65</td>\n",
       "      <td>3.0</td>\n",
       "      <td>0.0</td>\n",
       "      <td>0</td>\n",
       "      <td>0</td>\n",
       "      <td>642.24</td>\n",
       "      <td>0.0</td>\n",
       "      <td>59</td>\n",
       "      <td>48</td>\n",
       "      <td>1</td>\n",
       "      <td>18</td>\n",
       "    </tr>\n",
       "  </tbody>\n",
       "</table>\n",
       "</div>"
      ],
      "text/plain": [
       "             sid                time_start                  time_end  \\\n",
       "2823975  2823975 2019-10-29 01:50:54+00:00 2019-10-29 01:50:54+00:00   \n",
       "3727531  3727531 2019-11-06 12:20:26+00:00 2019-11-06 12:20:26+00:00   \n",
       "3584377  3584377 2019-11-05 07:34:21+00:00 2019-11-05 07:34:47+00:00   \n",
       "7187536  7187536 2019-11-30 03:39:32+00:00 2019-11-30 03:45:10+00:00   \n",
       "6807268  6807268 2019-11-26 18:54:42+00:00 2019-11-26 18:55:41+00:00   \n",
       "\n",
       "         n_products  n_brands  price_max  price_min  views  carts  is_cart  \\\n",
       "2823975           1         1     220.08     220.08    1.0    0.0        0   \n",
       "3727531           1         1     131.66     131.66    1.0    0.0        0   \n",
       "3584377           2         1    1336.71     473.37    2.0    0.0        0   \n",
       "7187536           4         1    1634.53    1428.30    9.0    0.0        0   \n",
       "6807268           2         1     246.94     197.65    3.0    0.0        0   \n",
       "\n",
       "         is_purchased  view_price  cart_price  session_duration  week_id  \\\n",
       "2823975             0      220.08         0.0                 0       44   \n",
       "3727531             0      131.66         0.0                 0       45   \n",
       "3584377             0     1810.08         0.0                26       45   \n",
       "7187536             0    14297.71         0.0               338       48   \n",
       "6807268             0      642.24         0.0                59       48   \n",
       "\n",
       "         weekday  hour  \n",
       "2823975        1     1  \n",
       "3727531        2    12  \n",
       "3584377        1     7  \n",
       "7187536        5     3  \n",
       "6807268        1    18  "
      ]
     },
     "execution_count": 16,
     "metadata": {},
     "output_type": "execute_result"
    }
   ],
   "source": [
    "df_session.sample(5)"
   ]
  },
  {
   "cell_type": "code",
   "execution_count": 17,
   "metadata": {},
   "outputs": [
    {
     "data": {
      "text/html": [
       "<div>\n",
       "<style scoped>\n",
       "    .dataframe tbody tr th:only-of-type {\n",
       "        vertical-align: middle;\n",
       "    }\n",
       "\n",
       "    .dataframe tbody tr th {\n",
       "        vertical-align: top;\n",
       "    }\n",
       "\n",
       "    .dataframe thead th {\n",
       "        text-align: right;\n",
       "    }\n",
       "</style>\n",
       "<table border=\"1\" class=\"dataframe\">\n",
       "  <thead>\n",
       "    <tr style=\"text-align: right;\">\n",
       "      <th></th>\n",
       "      <th>sid</th>\n",
       "      <th>n_products</th>\n",
       "      <th>n_brands</th>\n",
       "      <th>price_max</th>\n",
       "      <th>price_min</th>\n",
       "      <th>views</th>\n",
       "      <th>carts</th>\n",
       "      <th>is_cart</th>\n",
       "      <th>is_purchased</th>\n",
       "      <th>view_price</th>\n",
       "      <th>cart_price</th>\n",
       "      <th>session_duration</th>\n",
       "      <th>week_id</th>\n",
       "      <th>weekday</th>\n",
       "      <th>hour</th>\n",
       "    </tr>\n",
       "  </thead>\n",
       "  <tbody>\n",
       "    <tr>\n",
       "      <th>sid</th>\n",
       "      <td>1.000000</td>\n",
       "      <td>-0.003715</td>\n",
       "      <td>0.000739</td>\n",
       "      <td>0.000006</td>\n",
       "      <td>0.004839</td>\n",
       "      <td>0.005867</td>\n",
       "      <td>0.059508</td>\n",
       "      <td>0.084292</td>\n",
       "      <td>-0.015585</td>\n",
       "      <td>0.007062</td>\n",
       "      <td>0.051841</td>\n",
       "      <td>-0.013446</td>\n",
       "      <td>0.986907</td>\n",
       "      <td>0.068010</td>\n",
       "      <td>0.014264</td>\n",
       "    </tr>\n",
       "    <tr>\n",
       "      <th>n_products</th>\n",
       "      <td>-0.003715</td>\n",
       "      <td>1.000000</td>\n",
       "      <td>0.699363</td>\n",
       "      <td>0.209119</td>\n",
       "      <td>-0.197777</td>\n",
       "      <td>0.892441</td>\n",
       "      <td>0.034416</td>\n",
       "      <td>0.011379</td>\n",
       "      <td>-0.026412</td>\n",
       "      <td>0.673793</td>\n",
       "      <td>0.019419</td>\n",
       "      <td>0.005240</td>\n",
       "      <td>-0.006264</td>\n",
       "      <td>0.015617</td>\n",
       "      <td>0.054732</td>\n",
       "    </tr>\n",
       "    <tr>\n",
       "      <th>n_brands</th>\n",
       "      <td>0.000739</td>\n",
       "      <td>0.699363</td>\n",
       "      <td>1.000000</td>\n",
       "      <td>0.096045</td>\n",
       "      <td>-0.230918</td>\n",
       "      <td>0.613942</td>\n",
       "      <td>0.007279</td>\n",
       "      <td>-0.010466</td>\n",
       "      <td>-0.027338</td>\n",
       "      <td>0.340317</td>\n",
       "      <td>-0.018235</td>\n",
       "      <td>0.003724</td>\n",
       "      <td>-0.000476</td>\n",
       "      <td>0.007785</td>\n",
       "      <td>0.040830</td>\n",
       "    </tr>\n",
       "    <tr>\n",
       "      <th>price_max</th>\n",
       "      <td>0.000006</td>\n",
       "      <td>0.209119</td>\n",
       "      <td>0.096045</td>\n",
       "      <td>1.000000</td>\n",
       "      <td>0.763501</td>\n",
       "      <td>0.141958</td>\n",
       "      <td>-0.033943</td>\n",
       "      <td>-0.049229</td>\n",
       "      <td>-0.048850</td>\n",
       "      <td>0.549760</td>\n",
       "      <td>0.118036</td>\n",
       "      <td>-0.003320</td>\n",
       "      <td>-0.002794</td>\n",
       "      <td>0.005499</td>\n",
       "      <td>0.047007</td>\n",
       "    </tr>\n",
       "    <tr>\n",
       "      <th>price_min</th>\n",
       "      <td>0.004839</td>\n",
       "      <td>-0.197777</td>\n",
       "      <td>-0.230918</td>\n",
       "      <td>0.763501</td>\n",
       "      <td>1.000000</td>\n",
       "      <td>-0.188698</td>\n",
       "      <td>-0.037683</td>\n",
       "      <td>-0.038061</td>\n",
       "      <td>-0.026125</td>\n",
       "      <td>0.201845</td>\n",
       "      <td>0.122198</td>\n",
       "      <td>-0.003920</td>\n",
       "      <td>0.004427</td>\n",
       "      <td>-0.004555</td>\n",
       "      <td>0.014913</td>\n",
       "    </tr>\n",
       "    <tr>\n",
       "      <th>views</th>\n",
       "      <td>0.005867</td>\n",
       "      <td>0.892441</td>\n",
       "      <td>0.613942</td>\n",
       "      <td>0.141958</td>\n",
       "      <td>-0.188698</td>\n",
       "      <td>1.000000</td>\n",
       "      <td>0.125366</td>\n",
       "      <td>0.100933</td>\n",
       "      <td>0.036229</td>\n",
       "      <td>0.727921</td>\n",
       "      <td>0.088440</td>\n",
       "      <td>0.027024</td>\n",
       "      <td>0.003243</td>\n",
       "      <td>0.020822</td>\n",
       "      <td>0.044936</td>\n",
       "    </tr>\n",
       "    <tr>\n",
       "      <th>carts</th>\n",
       "      <td>0.059508</td>\n",
       "      <td>0.034416</td>\n",
       "      <td>0.007279</td>\n",
       "      <td>-0.033943</td>\n",
       "      <td>-0.037683</td>\n",
       "      <td>0.125366</td>\n",
       "      <td>1.000000</td>\n",
       "      <td>0.631703</td>\n",
       "      <td>0.366575</td>\n",
       "      <td>0.088958</td>\n",
       "      <td>0.727046</td>\n",
       "      <td>-0.001700</td>\n",
       "      <td>0.052833</td>\n",
       "      <td>0.043046</td>\n",
       "      <td>-0.017187</td>\n",
       "    </tr>\n",
       "    <tr>\n",
       "      <th>is_cart</th>\n",
       "      <td>0.084292</td>\n",
       "      <td>0.011379</td>\n",
       "      <td>-0.010466</td>\n",
       "      <td>-0.049229</td>\n",
       "      <td>-0.038061</td>\n",
       "      <td>0.100933</td>\n",
       "      <td>0.631703</td>\n",
       "      <td>1.000000</td>\n",
       "      <td>0.558373</td>\n",
       "      <td>0.070083</td>\n",
       "      <td>0.503696</td>\n",
       "      <td>-0.005966</td>\n",
       "      <td>0.075297</td>\n",
       "      <td>0.060021</td>\n",
       "      <td>-0.031234</td>\n",
       "    </tr>\n",
       "    <tr>\n",
       "      <th>is_purchased</th>\n",
       "      <td>-0.015585</td>\n",
       "      <td>-0.026412</td>\n",
       "      <td>-0.027338</td>\n",
       "      <td>-0.048850</td>\n",
       "      <td>-0.026125</td>\n",
       "      <td>0.036229</td>\n",
       "      <td>0.366575</td>\n",
       "      <td>0.558373</td>\n",
       "      <td>1.000000</td>\n",
       "      <td>0.018478</td>\n",
       "      <td>0.278713</td>\n",
       "      <td>-0.005306</td>\n",
       "      <td>-0.020857</td>\n",
       "      <td>0.014928</td>\n",
       "      <td>-0.032168</td>\n",
       "    </tr>\n",
       "    <tr>\n",
       "      <th>view_price</th>\n",
       "      <td>0.007062</td>\n",
       "      <td>0.673793</td>\n",
       "      <td>0.340317</td>\n",
       "      <td>0.549760</td>\n",
       "      <td>0.201845</td>\n",
       "      <td>0.727921</td>\n",
       "      <td>0.088958</td>\n",
       "      <td>0.070083</td>\n",
       "      <td>0.018478</td>\n",
       "      <td>1.000000</td>\n",
       "      <td>0.194002</td>\n",
       "      <td>0.020245</td>\n",
       "      <td>0.003644</td>\n",
       "      <td>0.022857</td>\n",
       "      <td>0.053386</td>\n",
       "    </tr>\n",
       "    <tr>\n",
       "      <th>cart_price</th>\n",
       "      <td>0.051841</td>\n",
       "      <td>0.019419</td>\n",
       "      <td>-0.018235</td>\n",
       "      <td>0.118036</td>\n",
       "      <td>0.122198</td>\n",
       "      <td>0.088440</td>\n",
       "      <td>0.727046</td>\n",
       "      <td>0.503696</td>\n",
       "      <td>0.278713</td>\n",
       "      <td>0.194002</td>\n",
       "      <td>1.000000</td>\n",
       "      <td>-0.002000</td>\n",
       "      <td>0.046539</td>\n",
       "      <td>0.037128</td>\n",
       "      <td>-0.005542</td>\n",
       "    </tr>\n",
       "    <tr>\n",
       "      <th>session_duration</th>\n",
       "      <td>-0.013446</td>\n",
       "      <td>0.005240</td>\n",
       "      <td>0.003724</td>\n",
       "      <td>-0.003320</td>\n",
       "      <td>-0.003920</td>\n",
       "      <td>0.027024</td>\n",
       "      <td>-0.001700</td>\n",
       "      <td>-0.005966</td>\n",
       "      <td>-0.005306</td>\n",
       "      <td>0.020245</td>\n",
       "      <td>-0.002000</td>\n",
       "      <td>1.000000</td>\n",
       "      <td>-0.013449</td>\n",
       "      <td>-0.002816</td>\n",
       "      <td>0.000095</td>\n",
       "    </tr>\n",
       "    <tr>\n",
       "      <th>week_id</th>\n",
       "      <td>0.986907</td>\n",
       "      <td>-0.006264</td>\n",
       "      <td>-0.000476</td>\n",
       "      <td>-0.002794</td>\n",
       "      <td>0.004427</td>\n",
       "      <td>0.003243</td>\n",
       "      <td>0.052833</td>\n",
       "      <td>0.075297</td>\n",
       "      <td>-0.020857</td>\n",
       "      <td>0.003644</td>\n",
       "      <td>0.046539</td>\n",
       "      <td>-0.013449</td>\n",
       "      <td>1.000000</td>\n",
       "      <td>-0.048039</td>\n",
       "      <td>-0.000995</td>\n",
       "    </tr>\n",
       "    <tr>\n",
       "      <th>weekday</th>\n",
       "      <td>0.068010</td>\n",
       "      <td>0.015617</td>\n",
       "      <td>0.007785</td>\n",
       "      <td>0.005499</td>\n",
       "      <td>-0.004555</td>\n",
       "      <td>0.020822</td>\n",
       "      <td>0.043046</td>\n",
       "      <td>0.060021</td>\n",
       "      <td>0.014928</td>\n",
       "      <td>0.022857</td>\n",
       "      <td>0.037128</td>\n",
       "      <td>-0.002816</td>\n",
       "      <td>-0.048039</td>\n",
       "      <td>1.000000</td>\n",
       "      <td>-0.008213</td>\n",
       "    </tr>\n",
       "    <tr>\n",
       "      <th>hour</th>\n",
       "      <td>0.014264</td>\n",
       "      <td>0.054732</td>\n",
       "      <td>0.040830</td>\n",
       "      <td>0.047007</td>\n",
       "      <td>0.014913</td>\n",
       "      <td>0.044936</td>\n",
       "      <td>-0.017187</td>\n",
       "      <td>-0.031234</td>\n",
       "      <td>-0.032168</td>\n",
       "      <td>0.053386</td>\n",
       "      <td>-0.005542</td>\n",
       "      <td>0.000095</td>\n",
       "      <td>-0.000995</td>\n",
       "      <td>-0.008213</td>\n",
       "      <td>1.000000</td>\n",
       "    </tr>\n",
       "  </tbody>\n",
       "</table>\n",
       "</div>"
      ],
      "text/plain": [
       "                       sid  n_products  n_brands  price_max  price_min  \\\n",
       "sid               1.000000   -0.003715  0.000739   0.000006   0.004839   \n",
       "n_products       -0.003715    1.000000  0.699363   0.209119  -0.197777   \n",
       "n_brands          0.000739    0.699363  1.000000   0.096045  -0.230918   \n",
       "price_max         0.000006    0.209119  0.096045   1.000000   0.763501   \n",
       "price_min         0.004839   -0.197777 -0.230918   0.763501   1.000000   \n",
       "views             0.005867    0.892441  0.613942   0.141958  -0.188698   \n",
       "carts             0.059508    0.034416  0.007279  -0.033943  -0.037683   \n",
       "is_cart           0.084292    0.011379 -0.010466  -0.049229  -0.038061   \n",
       "is_purchased     -0.015585   -0.026412 -0.027338  -0.048850  -0.026125   \n",
       "view_price        0.007062    0.673793  0.340317   0.549760   0.201845   \n",
       "cart_price        0.051841    0.019419 -0.018235   0.118036   0.122198   \n",
       "session_duration -0.013446    0.005240  0.003724  -0.003320  -0.003920   \n",
       "week_id           0.986907   -0.006264 -0.000476  -0.002794   0.004427   \n",
       "weekday           0.068010    0.015617  0.007785   0.005499  -0.004555   \n",
       "hour              0.014264    0.054732  0.040830   0.047007   0.014913   \n",
       "\n",
       "                     views     carts   is_cart  is_purchased  view_price  \\\n",
       "sid               0.005867  0.059508  0.084292     -0.015585    0.007062   \n",
       "n_products        0.892441  0.034416  0.011379     -0.026412    0.673793   \n",
       "n_brands          0.613942  0.007279 -0.010466     -0.027338    0.340317   \n",
       "price_max         0.141958 -0.033943 -0.049229     -0.048850    0.549760   \n",
       "price_min        -0.188698 -0.037683 -0.038061     -0.026125    0.201845   \n",
       "views             1.000000  0.125366  0.100933      0.036229    0.727921   \n",
       "carts             0.125366  1.000000  0.631703      0.366575    0.088958   \n",
       "is_cart           0.100933  0.631703  1.000000      0.558373    0.070083   \n",
       "is_purchased      0.036229  0.366575  0.558373      1.000000    0.018478   \n",
       "view_price        0.727921  0.088958  0.070083      0.018478    1.000000   \n",
       "cart_price        0.088440  0.727046  0.503696      0.278713    0.194002   \n",
       "session_duration  0.027024 -0.001700 -0.005966     -0.005306    0.020245   \n",
       "week_id           0.003243  0.052833  0.075297     -0.020857    0.003644   \n",
       "weekday           0.020822  0.043046  0.060021      0.014928    0.022857   \n",
       "hour              0.044936 -0.017187 -0.031234     -0.032168    0.053386   \n",
       "\n",
       "                  cart_price  session_duration   week_id   weekday      hour  \n",
       "sid                 0.051841         -0.013446  0.986907  0.068010  0.014264  \n",
       "n_products          0.019419          0.005240 -0.006264  0.015617  0.054732  \n",
       "n_brands           -0.018235          0.003724 -0.000476  0.007785  0.040830  \n",
       "price_max           0.118036         -0.003320 -0.002794  0.005499  0.047007  \n",
       "price_min           0.122198         -0.003920  0.004427 -0.004555  0.014913  \n",
       "views               0.088440          0.027024  0.003243  0.020822  0.044936  \n",
       "carts               0.727046         -0.001700  0.052833  0.043046 -0.017187  \n",
       "is_cart             0.503696         -0.005966  0.075297  0.060021 -0.031234  \n",
       "is_purchased        0.278713         -0.005306 -0.020857  0.014928 -0.032168  \n",
       "view_price          0.194002          0.020245  0.003644  0.022857  0.053386  \n",
       "cart_price          1.000000         -0.002000  0.046539  0.037128 -0.005542  \n",
       "session_duration   -0.002000          1.000000 -0.013449 -0.002816  0.000095  \n",
       "week_id             0.046539         -0.013449  1.000000 -0.048039 -0.000995  \n",
       "weekday             0.037128         -0.002816 -0.048039  1.000000 -0.008213  \n",
       "hour               -0.005542          0.000095 -0.000995 -0.008213  1.000000  "
      ]
     },
     "execution_count": 17,
     "metadata": {},
     "output_type": "execute_result"
    }
   ],
   "source": [
    "df_session.corr()"
   ]
  },
  {
   "cell_type": "markdown",
   "metadata": {},
   "source": [
    "##### There are over 7 millions sessions containing smartphone products. The dataset is highly imbalanced, with 91.7% labelled as \"not purchased\" and 8.3% labelled as \"purchased\""
   ]
  },
  {
   "cell_type": "code",
   "execution_count": 18,
   "metadata": {},
   "outputs": [
    {
     "data": {
      "text/plain": [
       "0    6694614\n",
       "1     608725\n",
       "Name: is_purchased, dtype: int64"
      ]
     },
     "execution_count": 18,
     "metadata": {},
     "output_type": "execute_result"
    }
   ],
   "source": [
    "df_session['is_purchased'].value_counts()"
   ]
  },
  {
   "cell_type": "code",
   "execution_count": 19,
   "metadata": {},
   "outputs": [
    {
     "data": {
      "text/plain": [
       "0.9166511372401035"
      ]
     },
     "execution_count": 19,
     "metadata": {},
     "output_type": "execute_result"
    }
   ],
   "source": [
    "df_session[df_session['is_purchased']==0].shape[0] / df_session.shape[0]"
   ]
  },
  {
   "cell_type": "code",
   "execution_count": 1,
   "metadata": {},
   "outputs": [
    {
     "data": {
      "text/plain": [
       "0.08334886275989653"
      ]
     },
     "execution_count": 1,
     "metadata": {},
     "output_type": "execute_result"
    }
   ],
   "source": [
    "608725/(6694614+608725)"
   ]
  },
  {
   "cell_type": "code",
   "execution_count": 20,
   "metadata": {},
   "outputs": [],
   "source": [
    "#df_session = df_session[df_session['session_duration'] < 3600]"
   ]
  },
  {
   "cell_type": "markdown",
   "metadata": {},
   "source": [
    "save the dataset to csv file, which can be used later (directly to modelling)"
   ]
  },
  {
   "cell_type": "code",
   "execution_count": 21,
   "metadata": {},
   "outputs": [],
   "source": [
    "df_session.to_csv('csv_files/07_session_smartphone.csv', index = False)"
   ]
  },
  {
   "cell_type": "code",
   "execution_count": null,
   "metadata": {},
   "outputs": [],
   "source": []
  },
  {
   "cell_type": "markdown",
   "metadata": {},
   "source": [
    "## Section 3.  Modelling <a class=\"anchor\" id=\"section_3\"></a> \n"
   ]
  },
  {
   "cell_type": "code",
   "execution_count": 3,
   "metadata": {},
   "outputs": [],
   "source": [
    "#df_session = pd.read_csv('csv_files/07_session_smartphone.csv')"
   ]
  },
  {
   "cell_type": "markdown",
   "metadata": {},
   "source": [
    "### Section 3.1  Pipeline <a class=\"anchor\" id=\"section_3_a\"></a> \n",
    "import libraries for machine learning"
   ]
  },
  {
   "cell_type": "code",
   "execution_count": 4,
   "metadata": {},
   "outputs": [],
   "source": [
    "from scipy import stats\n",
    "\n",
    "from sklearn.compose import ColumnTransformer\n",
    "#from sklearn.compose import TransformedTargetRegressor\n",
    "from sklearn.pipeline import Pipeline\n",
    "#from sklearn.impute import SimpleImputer\n",
    "from sklearn.preprocessing import StandardScaler, MinMaxScaler\n",
    "from sklearn.preprocessing import OneHotEncoder, LabelEncoder, OrdinalEncoder\n",
    "from sklearn.preprocessing import FunctionTransformer\n",
    "\n",
    "#from sklearn.metrics import mean_squared_error, mean_absolute_error\n",
    "from sklearn import metrics\n",
    "from sklearn.metrics import plot_confusion_matrix\n",
    "\n",
    "from sklearn.linear_model import LogisticRegression\n",
    "from sklearn.linear_model import RidgeClassifier, RidgeClassifierCV\n",
    "from sklearn.svm import SVC\n",
    "from sklearn.tree import DecisionTreeClassifier\n",
    "from sklearn.ensemble import AdaBoostClassifier\n",
    "from sklearn.ensemble import BaggingClassifier\n",
    "from sklearn.ensemble import GradientBoostingClassifier\n",
    "from sklearn.ensemble import RandomForestClassifier\n",
    "\n",
    "from xgboost import XGBClassifier\n"
   ]
  },
  {
   "cell_type": "code",
   "execution_count": 5,
   "metadata": {},
   "outputs": [
    {
     "data": {
      "text/plain": [
       "Index(['sid', 'time_start', 'time_end', 'n_products', 'n_brands', 'price_max',\n",
       "       'price_min', 'views', 'carts', 'is_cart', 'is_purchased', 'view_price',\n",
       "       'cart_price', 'session_duration', 'week_id', 'weekday', 'hour'],\n",
       "      dtype='object')"
      ]
     },
     "execution_count": 5,
     "metadata": {},
     "output_type": "execute_result"
    }
   ],
   "source": [
    "df_session.columns"
   ]
  },
  {
   "cell_type": "markdown",
   "metadata": {},
   "source": [
    "Select features"
   ]
  },
  {
   "cell_type": "code",
   "execution_count": 6,
   "metadata": {},
   "outputs": [],
   "source": [
    "log_features = []\n",
    "lin_features = ['n_products', 'n_brands',\n",
    "                'price_max', 'price_min',\n",
    "                'views', 'carts', 'is_cart', \n",
    "                'view_price', 'cart_price',\n",
    "                'session_duration', 'weekday', 'hour',\n",
    "               ]\n",
    "features = log_features + lin_features"
   ]
  },
  {
   "cell_type": "markdown",
   "metadata": {},
   "source": [
    "define function to plot feature importance after model fitting"
   ]
  },
  {
   "cell_type": "code",
   "execution_count": 36,
   "metadata": {},
   "outputs": [],
   "source": [
    "def plot_feature_importance(df_feature_importance, title, fname):\n",
    "    dict_name = {'session_duration': 'session duration',\n",
    "                 'views': 'total views in the session',\n",
    "                 'carts': 'total carts in the session',\n",
    "                 'is_cart' : 'nonzero cart activity in the session',\n",
    "                 'n_products': 'number of products viewed',\n",
    "                 'n_brands': 'number of brands viewed',\n",
    "                 'price_max': 'maximum product price viewed',\n",
    "                 'price_min' : 'minimum product price viewed',\n",
    "                 'view_price': 'total product price viewed',\n",
    "                 'cart_price' : 'total product price carted',\n",
    "                 'hour': 'hour in the day',\n",
    "                 'weekday': 'day of the week'\n",
    "                }\n",
    "    df_feature_importance.reset_index(inplace = True)\n",
    "    df_feature_importance['name'] = df_feature_importance['index'].map(dict_name)\n",
    "    df_feature_importance.set_index('name', inplace = True)\n",
    "    \n",
    "    col = 'feature importance'\n",
    "    fig, ax = plt.subplots(figsize =[5, 4])\n",
    "    df_feature_importance[col].sort_values(ascending = False) \\\n",
    "                              .head(8).iloc[::-1] \\\n",
    "                              .plot(kind = 'barh', fontsize = 12, color = 'lightskyblue')\n",
    "    ax.set_ylabel('')\n",
    "    #ax.set_xlabel('feature importance', fontsize = 14)\n",
    "    ax.set_xlabel('feature importance', fontsize = 13, fontweight = 'bold')\n",
    "    ax.set_title(title, fontsize = 13, fontweight = 'bold')\n",
    "    filename = 'output/phone_feature_importance_' + fname + '.png'\n",
    "    fig.savefig(filename, transparent=True, bbox_inches='tight', dpi=300)"
   ]
  },
  {
   "cell_type": "markdown",
   "metadata": {},
   "source": [
    "generate and create preprecessor"
   ]
  },
  {
   "cell_type": "code",
   "execution_count": 8,
   "metadata": {},
   "outputs": [],
   "source": [
    "\n",
    "log_transformer = FunctionTransformer(np.log1p, validate=True)\n",
    "\n",
    "lin_transformer = Pipeline(steps=[\n",
    "#    ('imputer', SimpleImputer(strategy='median')),\n",
    "#    ('scaler', StandardScaler()),\n",
    "    ('scaler', MinMaxScaler()),\n",
    "    ])\n",
    "\n",
    "#categorical_features = ['brand']\n",
    "#categorical_features = []\n",
    "categorical_transformer = OneHotEncoder(handle_unknown='ignore')\n",
    "\n",
    "preprocessor = ColumnTransformer(\n",
    "    transformers=[\n",
    "        ('num_log', log_transformer, log_features),\n",
    "        ('num_lin', lin_transformer, lin_features),\n",
    "#        ('cat', categorical_transformer, categorical_features),\n",
    "        ],\n",
    "#    remainder=\"drop\",\n",
    ")\n",
    "\n",
    "#features = log_features + lin_features\n",
    "#features = log_features + lin_features + categorical_features\n",
    "#display(features)\n",
    "\n",
    "target = 'is_purchased'\n"
   ]
  },
  {
   "cell_type": "markdown",
   "metadata": {},
   "source": [
    "split dataset into train and test datasets"
   ]
  },
  {
   "cell_type": "code",
   "execution_count": 9,
   "metadata": {},
   "outputs": [],
   "source": [
    "current_week = df_session['week_id'].max()\n",
    "\n",
    "X_train = df_session[df_session['week_id'] < current_week][features]\n",
    "y_train = df_session[df_session['week_id'] < current_week][target]\n",
    "\n",
    "X_test = df_session[df_session['week_id'] == current_week][features]\n",
    "y_test = df_session[df_session['week_id'] == current_week][target]\n"
   ]
  },
  {
   "cell_type": "markdown",
   "metadata": {},
   "source": [
    "### Section 3.2  Prediction <a class=\"anchor\" id=\"section_3_b\"></a> \n"
   ]
  },
  {
   "cell_type": "markdown",
   "metadata": {},
   "source": [
    "#### Section 3.2.1  Logistic regression <a class=\"anchor\" id=\"section_3_2_1\"></a> \n",
    "Assign class_weight to \"balanced\" for the imbalanced data"
   ]
  },
  {
   "cell_type": "code",
   "execution_count": 20,
   "metadata": {},
   "outputs": [
    {
     "name": "stdout",
     "output_type": "stream",
     "text": [
      "\n",
      "confusion matrix = \n",
      " [[610133  46408]\n",
      " [   939  58570]]\n",
      "Wall time: 1min 55s\n"
     ]
    },
    {
     "data": {
      "text/html": [
       "<div>\n",
       "<style scoped>\n",
       "    .dataframe tbody tr th:only-of-type {\n",
       "        vertical-align: middle;\n",
       "    }\n",
       "\n",
       "    .dataframe tbody tr th {\n",
       "        vertical-align: top;\n",
       "    }\n",
       "\n",
       "    .dataframe thead th {\n",
       "        text-align: right;\n",
       "    }\n",
       "</style>\n",
       "<table border=\"1\" class=\"dataframe\">\n",
       "  <thead>\n",
       "    <tr style=\"text-align: right;\">\n",
       "      <th></th>\n",
       "      <th>accuracy</th>\n",
       "      <th>precision</th>\n",
       "      <th>recall</th>\n",
       "      <th>f1 score</th>\n",
       "      <th>roc auc</th>\n",
       "      <th>pr auc</th>\n",
       "    </tr>\n",
       "  </thead>\n",
       "  <tbody>\n",
       "    <tr>\n",
       "      <th>Logistic</th>\n",
       "      <td>0.9339</td>\n",
       "      <td>0.5579</td>\n",
       "      <td>0.9842</td>\n",
       "      <td>0.7122</td>\n",
       "      <td>0.9568</td>\n",
       "      <td>0.5504</td>\n",
       "    </tr>\n",
       "  </tbody>\n",
       "</table>\n",
       "</div>"
      ],
      "text/plain": [
       "          accuracy  precision  recall  f1 score  roc auc  pr auc\n",
       "Logistic    0.9339     0.5579  0.9842    0.7122   0.9568  0.5504"
      ]
     },
     "execution_count": 20,
     "metadata": {},
     "output_type": "execute_result"
    }
   ],
   "source": [
    "%%time\n",
    "clfr = Pipeline(steps=[('preprocessor', preprocessor),\n",
    "                       ('classifier', LogisticRegression(class_weight = 'balanced', max_iter = 500))])\n",
    "\n",
    "clfr.fit(X_train, y_train)\n",
    "\n",
    "y_pred = clfr.predict(X_test)\n",
    "\n",
    "print('\\nconfusion matrix = \\n', metrics.confusion_matrix(y_test, y_pred))\n",
    "scores = {'accuracy': metrics.accuracy_score(y_test, y_pred),\n",
    "          'precision': metrics.precision_score(y_test, y_pred),\n",
    "          'recall': metrics.recall_score(y_test, y_pred),\n",
    "          'f1 score': metrics.f1_score(y_test, y_pred),\n",
    "          'roc auc': metrics.roc_auc_score(y_test, y_pred),\n",
    "          'pr auc': metrics.average_precision_score(y_test, y_pred)}\n",
    "\n",
    "score_metrics = pd.DataFrame(scores, index=['Logistic']).round(4)\n",
    "score_metrics"
   ]
  },
  {
   "cell_type": "code",
   "execution_count": 21,
   "metadata": {},
   "outputs": [
    {
     "data": {
      "text/html": [
       "<div>\n",
       "<style scoped>\n",
       "    .dataframe tbody tr th:only-of-type {\n",
       "        vertical-align: middle;\n",
       "    }\n",
       "\n",
       "    .dataframe tbody tr th {\n",
       "        vertical-align: top;\n",
       "    }\n",
       "\n",
       "    .dataframe thead th {\n",
       "        text-align: right;\n",
       "    }\n",
       "</style>\n",
       "<table border=\"1\" class=\"dataframe\">\n",
       "  <thead>\n",
       "    <tr style=\"text-align: right;\">\n",
       "      <th></th>\n",
       "      <th>feature importance</th>\n",
       "    </tr>\n",
       "  </thead>\n",
       "  <tbody>\n",
       "    <tr>\n",
       "      <th>views</th>\n",
       "      <td>46.338468</td>\n",
       "    </tr>\n",
       "    <tr>\n",
       "      <th>view_price</th>\n",
       "      <td>13.482854</td>\n",
       "    </tr>\n",
       "    <tr>\n",
       "      <th>carts</th>\n",
       "      <td>8.067062</td>\n",
       "    </tr>\n",
       "    <tr>\n",
       "      <th>is_cart</th>\n",
       "      <td>3.484088</td>\n",
       "    </tr>\n",
       "    <tr>\n",
       "      <th>price_min</th>\n",
       "      <td>0.832856</td>\n",
       "    </tr>\n",
       "    <tr>\n",
       "      <th>n_brands</th>\n",
       "      <td>-0.062618</td>\n",
       "    </tr>\n",
       "    <tr>\n",
       "      <th>weekday</th>\n",
       "      <td>-0.232797</td>\n",
       "    </tr>\n",
       "    <tr>\n",
       "      <th>hour</th>\n",
       "      <td>-0.480583</td>\n",
       "    </tr>\n",
       "    <tr>\n",
       "      <th>price_max</th>\n",
       "      <td>-1.281921</td>\n",
       "    </tr>\n",
       "    <tr>\n",
       "      <th>session_duration</th>\n",
       "      <td>-10.028295</td>\n",
       "    </tr>\n",
       "    <tr>\n",
       "      <th>cart_price</th>\n",
       "      <td>-12.056084</td>\n",
       "    </tr>\n",
       "    <tr>\n",
       "      <th>n_products</th>\n",
       "      <td>-37.509517</td>\n",
       "    </tr>\n",
       "  </tbody>\n",
       "</table>\n",
       "</div>"
      ],
      "text/plain": [
       "                  feature importance\n",
       "views                      46.338468\n",
       "view_price                 13.482854\n",
       "carts                       8.067062\n",
       "is_cart                     3.484088\n",
       "price_min                   0.832856\n",
       "n_brands                   -0.062618\n",
       "weekday                    -0.232797\n",
       "hour                       -0.480583\n",
       "price_max                  -1.281921\n",
       "session_duration          -10.028295\n",
       "cart_price                -12.056084\n",
       "n_products                -37.509517"
      ]
     },
     "execution_count": 21,
     "metadata": {},
     "output_type": "execute_result"
    }
   ],
   "source": [
    "df_fim_logistic = pd.DataFrame(clfr.named_steps['classifier'].coef_.T,\n",
    "                               columns = ['feature importance'],\n",
    "                               index = features).sort_values(by = 'feature importance', ascending = False)\n",
    "df_fim_logistic"
   ]
  },
  {
   "cell_type": "markdown",
   "metadata": {},
   "source": [
    "#### Section 3.2.2  Random forest classifier <a class=\"anchor\" id=\"section_3_2_2\"></a> \n"
   ]
  },
  {
   "cell_type": "code",
   "execution_count": 22,
   "metadata": {},
   "outputs": [
    {
     "name": "stdout",
     "output_type": "stream",
     "text": [
      "\n",
      "confusion matrix = \n",
      " [[642972  13569]\n",
      " [ 24822  34687]]\n",
      "Wall time: 17min 46s\n"
     ]
    },
    {
     "data": {
      "text/html": [
       "<div>\n",
       "<style scoped>\n",
       "    .dataframe tbody tr th:only-of-type {\n",
       "        vertical-align: middle;\n",
       "    }\n",
       "\n",
       "    .dataframe tbody tr th {\n",
       "        vertical-align: top;\n",
       "    }\n",
       "\n",
       "    .dataframe thead th {\n",
       "        text-align: right;\n",
       "    }\n",
       "</style>\n",
       "<table border=\"1\" class=\"dataframe\">\n",
       "  <thead>\n",
       "    <tr style=\"text-align: right;\">\n",
       "      <th></th>\n",
       "      <th>accuracy</th>\n",
       "      <th>precision</th>\n",
       "      <th>recall</th>\n",
       "      <th>f1 score</th>\n",
       "      <th>roc auc</th>\n",
       "      <th>pr auc</th>\n",
       "    </tr>\n",
       "  </thead>\n",
       "  <tbody>\n",
       "    <tr>\n",
       "      <th>Logistic</th>\n",
       "      <td>0.9339</td>\n",
       "      <td>0.5579</td>\n",
       "      <td>0.9842</td>\n",
       "      <td>0.7122</td>\n",
       "      <td>0.9568</td>\n",
       "      <td>0.5504</td>\n",
       "    </tr>\n",
       "    <tr>\n",
       "      <th>Random Forest</th>\n",
       "      <td>0.9464</td>\n",
       "      <td>0.7188</td>\n",
       "      <td>0.5829</td>\n",
       "      <td>0.6438</td>\n",
       "      <td>0.7811</td>\n",
       "      <td>0.4537</td>\n",
       "    </tr>\n",
       "  </tbody>\n",
       "</table>\n",
       "</div>"
      ],
      "text/plain": [
       "               accuracy  precision  recall  f1 score  roc auc  pr auc\n",
       "Logistic         0.9339     0.5579  0.9842    0.7122   0.9568  0.5504\n",
       "Random Forest    0.9464     0.7188  0.5829    0.6438   0.7811  0.4537"
      ]
     },
     "execution_count": 22,
     "metadata": {},
     "output_type": "execute_result"
    }
   ],
   "source": [
    "%%time\n",
    "clfr = Pipeline(steps=[('preprocessor', preprocessor),\n",
    "                       ('classifier', RandomForestClassifier(class_weight = \"balanced\"))])\n",
    "#                       ('classifier', RandomForestClassifier(class_weight = {0:1,1:20}))])\n",
    "\n",
    "clfr.fit(X_train, y_train)\n",
    "\n",
    "y_pred = clfr.predict(X_test)\n",
    "\n",
    "print('\\nconfusion matrix = \\n', metrics.confusion_matrix(y_test, y_pred))\n",
    "scores = {'accuracy': metrics.accuracy_score(y_test, y_pred),\n",
    "          'precision': metrics.precision_score(y_test, y_pred),\n",
    "          'recall': metrics.recall_score(y_test, y_pred),\n",
    "          'f1 score': metrics.f1_score(y_test, y_pred),\n",
    "          'roc auc': metrics.roc_auc_score(y_test, y_pred),\n",
    "          'pr auc': metrics.average_precision_score(y_test, y_pred)}\n",
    "\n",
    "score_metrics = pd.concat([score_metrics, pd.DataFrame(scores, index=['Random Forest']).round(4)])\n",
    "score_metrics"
   ]
  },
  {
   "cell_type": "code",
   "execution_count": 24,
   "metadata": {},
   "outputs": [
    {
     "data": {
      "text/html": [
       "<div>\n",
       "<style scoped>\n",
       "    .dataframe tbody tr th:only-of-type {\n",
       "        vertical-align: middle;\n",
       "    }\n",
       "\n",
       "    .dataframe tbody tr th {\n",
       "        vertical-align: top;\n",
       "    }\n",
       "\n",
       "    .dataframe thead th {\n",
       "        text-align: right;\n",
       "    }\n",
       "</style>\n",
       "<table border=\"1\" class=\"dataframe\">\n",
       "  <thead>\n",
       "    <tr style=\"text-align: right;\">\n",
       "      <th></th>\n",
       "      <th>feature importance</th>\n",
       "    </tr>\n",
       "  </thead>\n",
       "  <tbody>\n",
       "    <tr>\n",
       "      <th>session_duration</th>\n",
       "      <td>0.236322</td>\n",
       "    </tr>\n",
       "    <tr>\n",
       "      <th>cart_price</th>\n",
       "      <td>0.154419</td>\n",
       "    </tr>\n",
       "    <tr>\n",
       "      <th>carts</th>\n",
       "      <td>0.140968</td>\n",
       "    </tr>\n",
       "    <tr>\n",
       "      <th>is_cart</th>\n",
       "      <td>0.135283</td>\n",
       "    </tr>\n",
       "    <tr>\n",
       "      <th>view_price</th>\n",
       "      <td>0.062982</td>\n",
       "    </tr>\n",
       "    <tr>\n",
       "      <th>price_min</th>\n",
       "      <td>0.059672</td>\n",
       "    </tr>\n",
       "    <tr>\n",
       "      <th>price_max</th>\n",
       "      <td>0.058512</td>\n",
       "    </tr>\n",
       "    <tr>\n",
       "      <th>views</th>\n",
       "      <td>0.047162</td>\n",
       "    </tr>\n",
       "    <tr>\n",
       "      <th>hour</th>\n",
       "      <td>0.040150</td>\n",
       "    </tr>\n",
       "    <tr>\n",
       "      <th>n_products</th>\n",
       "      <td>0.038578</td>\n",
       "    </tr>\n",
       "    <tr>\n",
       "      <th>weekday</th>\n",
       "      <td>0.018940</td>\n",
       "    </tr>\n",
       "    <tr>\n",
       "      <th>n_brands</th>\n",
       "      <td>0.007011</td>\n",
       "    </tr>\n",
       "  </tbody>\n",
       "</table>\n",
       "</div>"
      ],
      "text/plain": [
       "                  feature importance\n",
       "session_duration            0.236322\n",
       "cart_price                  0.154419\n",
       "carts                       0.140968\n",
       "is_cart                     0.135283\n",
       "view_price                  0.062982\n",
       "price_min                   0.059672\n",
       "price_max                   0.058512\n",
       "views                       0.047162\n",
       "hour                        0.040150\n",
       "n_products                  0.038578\n",
       "weekday                     0.018940\n",
       "n_brands                    0.007011"
      ]
     },
     "execution_count": 24,
     "metadata": {},
     "output_type": "execute_result"
    }
   ],
   "source": [
    "df_fim_rf = pd.DataFrame(clfr.named_steps['classifier'].feature_importances_.T,\n",
    "                         columns = ['feature importance'],\n",
    "                         index = features).sort_values(by = 'feature importance', ascending = False)\n",
    "df_fim_rf"
   ]
  },
  {
   "cell_type": "code",
   "execution_count": 37,
   "metadata": {},
   "outputs": [
    {
     "data": {
      "image/png": "[encoded data removed]",
      "text/plain": [
       "<Figure size 360x288 with 1 Axes>"
      ]
     },
     "metadata": {
      "needs_background": "light"
     },
     "output_type": "display_data"
    }
   ],
   "source": [
    "plot_feature_importance(df_fim_rf, 'Random Forest', 'rf')"
   ]
  },
  {
   "cell_type": "markdown",
   "metadata": {},
   "source": [
    "#### Section 3.2.3 XG boost classifier <a class=\"anchor\" id=\"section_3_2_3\"></a> \n"
   ]
  },
  {
   "cell_type": "code",
   "execution_count": 26,
   "metadata": {},
   "outputs": [
    {
     "name": "stderr",
     "output_type": "stream",
     "text": [
      "C:\\ProgramData\\Anaconda3\\lib\\site-packages\\xgboost\\sklearn.py:888: UserWarning: The use of label encoder in XGBClassifier is deprecated and will be removed in a future release. To remove this warning, do the following: 1) Pass option use_label_encoder=False when constructing XGBClassifier object; and 2) Encode your labels (y) as integers starting with 0, i.e. 0, 1, 2, ..., [num_class - 1].\n",
      "  warnings.warn(label_encoder_deprecation_msg, UserWarning)\n"
     ]
    },
    {
     "name": "stdout",
     "output_type": "stream",
     "text": [
      "[17:05:53] WARNING: C:/Users/Administrator/workspace/xgboost-win64_release_1.3.0/src/learner.cc:1061: Starting in XGBoost 1.3.0, the default evaluation metric used with the objective 'binary:logistic' was changed from 'error' to 'logloss'. Explicitly set eval_metric if you'd like to restore the old behavior.\n",
      "\n",
      "confusion matrix = \n",
      " [[630808  25733]\n",
      " [  9781  49728]]\n",
      "Wall time: 4min 51s\n"
     ]
    },
    {
     "data": {
      "text/html": [
       "<div>\n",
       "<style scoped>\n",
       "    .dataframe tbody tr th:only-of-type {\n",
       "        vertical-align: middle;\n",
       "    }\n",
       "\n",
       "    .dataframe tbody tr th {\n",
       "        vertical-align: top;\n",
       "    }\n",
       "\n",
       "    .dataframe thead th {\n",
       "        text-align: right;\n",
       "    }\n",
       "</style>\n",
       "<table border=\"1\" class=\"dataframe\">\n",
       "  <thead>\n",
       "    <tr style=\"text-align: right;\">\n",
       "      <th></th>\n",
       "      <th>accuracy</th>\n",
       "      <th>precision</th>\n",
       "      <th>recall</th>\n",
       "      <th>f1 score</th>\n",
       "      <th>roc auc</th>\n",
       "      <th>pr auc</th>\n",
       "    </tr>\n",
       "  </thead>\n",
       "  <tbody>\n",
       "    <tr>\n",
       "      <th>Logistic</th>\n",
       "      <td>0.9339</td>\n",
       "      <td>0.5579</td>\n",
       "      <td>0.9842</td>\n",
       "      <td>0.7122</td>\n",
       "      <td>0.9568</td>\n",
       "      <td>0.5504</td>\n",
       "    </tr>\n",
       "    <tr>\n",
       "      <th>Random Forest</th>\n",
       "      <td>0.9464</td>\n",
       "      <td>0.7188</td>\n",
       "      <td>0.5829</td>\n",
       "      <td>0.6438</td>\n",
       "      <td>0.7811</td>\n",
       "      <td>0.4537</td>\n",
       "    </tr>\n",
       "    <tr>\n",
       "      <th>XG boost</th>\n",
       "      <td>0.9504</td>\n",
       "      <td>0.6590</td>\n",
       "      <td>0.8356</td>\n",
       "      <td>0.7369</td>\n",
       "      <td>0.8982</td>\n",
       "      <td>0.5643</td>\n",
       "    </tr>\n",
       "  </tbody>\n",
       "</table>\n",
       "</div>"
      ],
      "text/plain": [
       "               accuracy  precision  recall  f1 score  roc auc  pr auc\n",
       "Logistic         0.9339     0.5579  0.9842    0.7122   0.9568  0.5504\n",
       "Random Forest    0.9464     0.7188  0.5829    0.6438   0.7811  0.4537\n",
       "XG boost         0.9504     0.6590  0.8356    0.7369   0.8982  0.5643"
      ]
     },
     "execution_count": 26,
     "metadata": {},
     "output_type": "execute_result"
    }
   ],
   "source": [
    "%%time\n",
    "clfr = Pipeline(steps=[('preprocessor', preprocessor),\n",
    "                       ('classifier', XGBClassifier(learning_rate=0.1, scale_pos_weight = 2.0))])\n",
    "\n",
    "clfr.fit(X_train, y_train)\n",
    "\n",
    "y_pred = clfr.predict(X_test)\n",
    "\n",
    "print('\\nconfusion matrix = \\n', metrics.confusion_matrix(y_test, y_pred))\n",
    "scores = {'accuracy': metrics.accuracy_score(y_test, y_pred),\n",
    "          'precision': metrics.precision_score(y_test, y_pred),\n",
    "          'recall': metrics.recall_score(y_test, y_pred),\n",
    "          'f1 score': metrics.f1_score(y_test, y_pred),\n",
    "          'roc auc': metrics.roc_auc_score(y_test, y_pred),\n",
    "          'pr auc': metrics.average_precision_score(y_test, y_pred)}\n",
    "\n",
    "score_metrics = pd.concat([score_metrics, pd.DataFrame(scores, index=['XG boost']).round(4)])\n",
    "score_metrics"
   ]
  },
  {
   "cell_type": "markdown",
   "metadata": {},
   "source": [
    "#### Section 3.2.4  Model comparison <a class=\"anchor\" id=\"section_3_2_4\"></a> \n",
    "Create list of models\n"
   ]
  },
  {
   "cell_type": "code",
   "execution_count": 11,
   "metadata": {},
   "outputs": [],
   "source": [
    "models = [\n",
    "#          ('Logistic', LogisticRegression(class_weight = \"balanced\")),\n",
    "          ('Ridge', RidgeClassifier(class_weight = \"balanced\")),\n",
    "#          ('RidgeCV', RidgeClassifierCV()),\n",
    "#          ('SVC', SVC()),\n",
    "          ('Decision Tree', DecisionTreeClassifier(class_weight = \"balanced\")),\n",
    "          ('AdaBoost', AdaBoostClassifier()),\n",
    "          ('Bagging', BaggingClassifier()),\n",
    "          ('Gradient Boost', GradientBoostingClassifier()),\n",
    "#          ('Random Forest', RandomForestClassifier(class_weight = phone_class_weight)),\n",
    "          ('XGboost', XGBClassifier(learning_rate=0.1, scale_pos_weight = 2.0)),\n",
    "          ]\n"
   ]
  },
  {
   "cell_type": "code",
   "execution_count": 12,
   "metadata": {},
   "outputs": [],
   "source": [
    "def model_fit_predict(name, clf):\n",
    "    clfr = Pipeline(steps=[('preprocessor', preprocessor),\n",
    "                           ('classifier', clf)])\n",
    "\n",
    "    clfr.fit(X_train, y_train)\n",
    "\n",
    "    y_pred = clfr.predict(X_test)\n",
    "\n",
    "    print(name.rjust(16), end=':   ')\n",
    "#    print('accuracy = ', metrics.accuracy_score(y_test, y_pred).round(4))\n",
    "    print('f1 score = ', metrics.f1_score(y_test, y_pred).round(4))\n",
    "#    print('\\nconfusion matrix = \\n', metrics.confusion_matrix(y_test, y_pred))\n",
    "\n",
    "    scores = {'accuracy': metrics.accuracy_score(y_test, y_pred),\n",
    "              'precision': metrics.precision_score(y_test, y_pred),\n",
    "              'recall': metrics.recall_score(y_test, y_pred),\n",
    "              'f1 score': metrics.f1_score(y_test, y_pred),\n",
    "              'roc auc': metrics.roc_auc_score(y_test, y_pred),\n",
    "              'pr auc': metrics.average_precision_score(y_test, y_pred)}\n",
    "\n",
    "    df_score = pd.DataFrame(scores, index=[name]).round(4)\n",
    "\n",
    "    return df_score\n"
   ]
  },
  {
   "cell_type": "code",
   "execution_count": 13,
   "metadata": {},
   "outputs": [
    {
     "name": "stdout",
     "output_type": "stream",
     "text": [
      "           Ridge:   f1 score =  0.7164\n",
      "   Decision Tree:   f1 score =  0.5595\n",
      "        AdaBoost:   f1 score =  0.6041\n",
      "         Bagging:   f1 score =  0.6198\n",
      "  Gradient Boost:   f1 score =  0.6595\n"
     ]
    },
    {
     "name": "stderr",
     "output_type": "stream",
     "text": [
      "C:\\ProgramData\\Anaconda3\\lib\\site-packages\\xgboost\\sklearn.py:888: UserWarning: The use of label encoder in XGBClassifier is deprecated and will be removed in a future release. To remove this warning, do the following: 1) Pass option use_label_encoder=False when constructing XGBClassifier object; and 2) Encode your labels (y) as integers starting with 0, i.e. 0, 1, 2, ..., [num_class - 1].\n",
      "  warnings.warn(label_encoder_deprecation_msg, UserWarning)\n"
     ]
    },
    {
     "name": "stdout",
     "output_type": "stream",
     "text": [
      "[14:45:08] WARNING: C:/Users/Administrator/workspace/xgboost-win64_release_1.3.0/src/learner.cc:1061: Starting in XGBoost 1.3.0, the default evaluation metric used with the objective 'binary:logistic' was changed from 'error' to 'logloss'. Explicitly set eval_metric if you'd like to restore the old behavior.\n",
      "         XGboost:   f1 score =  0.7369\n"
     ]
    }
   ],
   "source": [
    "for name, clf in models:\n",
    "    df_score = model_fit_predict(name, clf)\n",
    "    score_metrics = pd.concat([score_metrics, df_score])\n"
   ]
  },
  {
   "cell_type": "markdown",
   "metadata": {},
   "source": [
    "Since the dataset is highly imbalanced. The baseline model can already achieve accuracy of 91.7%. Therefore, accuracy is not a good metric to evaluate the model performance. We want high scores both in precision and recall. If precision is low, the amount of \"not purchased\" sessions are classified as \"purchased\". This will mislead that business of over-estimated purchases than actual. On the other hand, if recall is low, some \"purchased\" sessions are mis-classified as \"not purchased\", which will under-estimate the product purchases. Consequently, for such classification problems, f1 score would be the best metric."
   ]
  },
  {
   "cell_type": "code",
   "execution_count": 41,
   "metadata": {},
   "outputs": [
    {
     "data": {
      "text/html": [
       "<div>\n",
       "<style scoped>\n",
       "    .dataframe tbody tr th:only-of-type {\n",
       "        vertical-align: middle;\n",
       "    }\n",
       "\n",
       "    .dataframe tbody tr th {\n",
       "        vertical-align: top;\n",
       "    }\n",
       "\n",
       "    .dataframe thead th {\n",
       "        text-align: right;\n",
       "    }\n",
       "</style>\n",
       "<table border=\"1\" class=\"dataframe\">\n",
       "  <thead>\n",
       "    <tr style=\"text-align: right;\">\n",
       "      <th></th>\n",
       "      <th>accuracy</th>\n",
       "      <th>precision</th>\n",
       "      <th>recall</th>\n",
       "      <th>f1 score</th>\n",
       "      <th>roc auc</th>\n",
       "      <th>pr auc</th>\n",
       "    </tr>\n",
       "  </thead>\n",
       "  <tbody>\n",
       "    <tr>\n",
       "      <th>Logistic</th>\n",
       "      <td>0.9339</td>\n",
       "      <td>0.5579</td>\n",
       "      <td>0.9842</td>\n",
       "      <td>0.7122</td>\n",
       "      <td>0.9568</td>\n",
       "      <td>0.5504</td>\n",
       "    </tr>\n",
       "    <tr>\n",
       "      <th>Random Forest</th>\n",
       "      <td>0.9464</td>\n",
       "      <td>0.7178</td>\n",
       "      <td>0.5850</td>\n",
       "      <td>0.6446</td>\n",
       "      <td>0.7821</td>\n",
       "      <td>0.4544</td>\n",
       "    </tr>\n",
       "    <tr>\n",
       "      <th>Ridge</th>\n",
       "      <td>0.9352</td>\n",
       "      <td>0.5628</td>\n",
       "      <td>0.9853</td>\n",
       "      <td>0.7164</td>\n",
       "      <td>0.9579</td>\n",
       "      <td>0.5557</td>\n",
       "    </tr>\n",
       "    <tr>\n",
       "      <th>Decision Tree</th>\n",
       "      <td>0.9281</td>\n",
       "      <td>0.5695</td>\n",
       "      <td>0.5511</td>\n",
       "      <td>0.5602</td>\n",
       "      <td>0.7567</td>\n",
       "      <td>0.3512</td>\n",
       "    </tr>\n",
       "    <tr>\n",
       "      <th>AdaBoost</th>\n",
       "      <td>0.9418</td>\n",
       "      <td>0.6951</td>\n",
       "      <td>0.5342</td>\n",
       "      <td>0.6041</td>\n",
       "      <td>0.7565</td>\n",
       "      <td>0.4100</td>\n",
       "    </tr>\n",
       "    <tr>\n",
       "      <th>Bagging</th>\n",
       "      <td>0.9424</td>\n",
       "      <td>0.6893</td>\n",
       "      <td>0.5590</td>\n",
       "      <td>0.6174</td>\n",
       "      <td>0.7681</td>\n",
       "      <td>0.4220</td>\n",
       "    </tr>\n",
       "    <tr>\n",
       "      <th>Gradient Boost</th>\n",
       "      <td>0.9470</td>\n",
       "      <td>0.7074</td>\n",
       "      <td>0.6176</td>\n",
       "      <td>0.6595</td>\n",
       "      <td>0.7972</td>\n",
       "      <td>0.4687</td>\n",
       "    </tr>\n",
       "    <tr>\n",
       "      <th>XGboost</th>\n",
       "      <td>0.9504</td>\n",
       "      <td>0.6590</td>\n",
       "      <td>0.8356</td>\n",
       "      <td>0.7369</td>\n",
       "      <td>0.8982</td>\n",
       "      <td>0.5643</td>\n",
       "    </tr>\n",
       "  </tbody>\n",
       "</table>\n",
       "</div>"
      ],
      "text/plain": [
       "                accuracy  precision  recall  f1 score  roc auc  pr auc\n",
       "Logistic          0.9339     0.5579  0.9842    0.7122   0.9568  0.5504\n",
       "Random Forest     0.9464     0.7178  0.5850    0.6446   0.7821  0.4544\n",
       "Ridge             0.9352     0.5628  0.9853    0.7164   0.9579  0.5557\n",
       "Decision Tree     0.9281     0.5695  0.5511    0.5602   0.7567  0.3512\n",
       "AdaBoost          0.9418     0.6951  0.5342    0.6041   0.7565  0.4100\n",
       "Bagging           0.9424     0.6893  0.5590    0.6174   0.7681  0.4220\n",
       "Gradient Boost    0.9470     0.7074  0.6176    0.6595   0.7972  0.4687\n",
       "XGboost           0.9504     0.6590  0.8356    0.7369   0.8982  0.5643"
      ]
     },
     "execution_count": 41,
     "metadata": {},
     "output_type": "execute_result"
    }
   ],
   "source": [
    "score_metrics"
   ]
  },
  {
   "cell_type": "markdown",
   "metadata": {},
   "source": [
    "Comparing the \"f1 score\" of different models, XGboost model has the highest score of 73.7%"
   ]
  },
  {
   "cell_type": "markdown",
   "metadata": {},
   "source": [
    "Save score metrics to csv file"
   ]
  },
  {
   "cell_type": "code",
   "execution_count": 42,
   "metadata": {},
   "outputs": [],
   "source": [
    "score_metrics.to_csv('output/07_smartphone_score_metrics.csv', index = False)"
   ]
  },
  {
   "cell_type": "markdown",
   "metadata": {},
   "source": [
    "#### Section 3.2.5  Feature importance <a class=\"anchor\" id=\"section_3_2_5\"></a> \n"
   ]
  },
  {
   "cell_type": "code",
   "execution_count": 27,
   "metadata": {},
   "outputs": [
    {
     "name": "stdout",
     "output_type": "stream",
     "text": [
      "[[0.96080519 0.03919481]\n",
      " [0.16436169 0.83563831]]\n"
     ]
    },
    {
     "data": {
      "image/png": "[encoded data removed]",
      "text/plain": [
       "<Figure size 432x288 with 2 Axes>"
      ]
     },
     "metadata": {
      "needs_background": "light"
     },
     "output_type": "display_data"
    }
   ],
   "source": [
    "from sklearn.metrics import plot_confusion_matrix\n",
    "\n",
    "disp = plot_confusion_matrix(clfr, X_test, y_test,\n",
    "                             display_labels = ['not purchased', 'purchased'],\n",
    "                             cmap = plt.cm.Blues,\n",
    "                             normalize = 'true',\n",
    "#                             normalize = None,\n",
    "                            )\n",
    "\n",
    "disp.ax_.set_title('XG boost')\n",
    "print(disp.confusion_matrix)\n"
   ]
  },
  {
   "cell_type": "code",
   "execution_count": 28,
   "metadata": {},
   "outputs": [
    {
     "data": {
      "text/plain": [
       "XGBClassifier(base_score=0.5, booster='gbtree', colsample_bylevel=1,\n",
       "              colsample_bynode=1, colsample_bytree=1, gamma=0, gpu_id=-1,\n",
       "              importance_type='gain', interaction_constraints='',\n",
       "              learning_rate=0.1, max_delta_step=0, max_depth=6,\n",
       "              min_child_weight=1, missing=nan, monotone_constraints='()',\n",
       "              n_estimators=100, n_jobs=8, num_parallel_tree=1, random_state=0,\n",
       "              reg_alpha=0, reg_lambda=1, scale_pos_weight=2.0, subsample=1,\n",
       "              tree_method='approx', validate_parameters=1, verbosity=None)"
      ]
     },
     "execution_count": 28,
     "metadata": {},
     "output_type": "execute_result"
    }
   ],
   "source": [
    "clfr.named_steps['classifier']"
   ]
  },
  {
   "cell_type": "code",
   "execution_count": 29,
   "metadata": {},
   "outputs": [
    {
     "data": {
      "text/html": [
       "<div>\n",
       "<style scoped>\n",
       "    .dataframe tbody tr th:only-of-type {\n",
       "        vertical-align: middle;\n",
       "    }\n",
       "\n",
       "    .dataframe tbody tr th {\n",
       "        vertical-align: top;\n",
       "    }\n",
       "\n",
       "    .dataframe thead th {\n",
       "        text-align: right;\n",
       "    }\n",
       "</style>\n",
       "<table border=\"1\" class=\"dataframe\">\n",
       "  <thead>\n",
       "    <tr style=\"text-align: right;\">\n",
       "      <th></th>\n",
       "      <th>feature importance</th>\n",
       "    </tr>\n",
       "    <tr>\n",
       "      <th>index</th>\n",
       "      <th></th>\n",
       "    </tr>\n",
       "  </thead>\n",
       "  <tbody>\n",
       "    <tr>\n",
       "      <th>carts</th>\n",
       "      <td>18230.844513</td>\n",
       "    </tr>\n",
       "    <tr>\n",
       "      <th>session_duration</th>\n",
       "      <td>2936.869279</td>\n",
       "    </tr>\n",
       "    <tr>\n",
       "      <th>views</th>\n",
       "      <td>2186.893669</td>\n",
       "    </tr>\n",
       "    <tr>\n",
       "      <th>n_products</th>\n",
       "      <td>2503.707043</td>\n",
       "    </tr>\n",
       "    <tr>\n",
       "      <th>price_max</th>\n",
       "      <td>229.183903</td>\n",
       "    </tr>\n",
       "    <tr>\n",
       "      <th>weekday</th>\n",
       "      <td>607.788854</td>\n",
       "    </tr>\n",
       "    <tr>\n",
       "      <th>hour</th>\n",
       "      <td>399.321732</td>\n",
       "    </tr>\n",
       "    <tr>\n",
       "      <th>price_min</th>\n",
       "      <td>293.876853</td>\n",
       "    </tr>\n",
       "    <tr>\n",
       "      <th>n_brands</th>\n",
       "      <td>490.826547</td>\n",
       "    </tr>\n",
       "    <tr>\n",
       "      <th>view_price</th>\n",
       "      <td>151.282762</td>\n",
       "    </tr>\n",
       "  </tbody>\n",
       "</table>\n",
       "</div>"
      ],
      "text/plain": [
       "                  feature importance\n",
       "index                               \n",
       "carts                   18230.844513\n",
       "session_duration         2936.869279\n",
       "views                    2186.893669\n",
       "n_products               2503.707043\n",
       "price_max                 229.183903\n",
       "weekday                   607.788854\n",
       "hour                      399.321732\n",
       "price_min                 293.876853\n",
       "n_brands                  490.826547\n",
       "view_price                151.282762"
      ]
     },
     "execution_count": 29,
     "metadata": {},
     "output_type": "execute_result"
    }
   ],
   "source": [
    "xgb_dict = dict(zip(['f'+str(x) for x in np.arange(len(features))], features))\n",
    "\n",
    "feature_important = clfr.named_steps['classifier'].get_booster().get_score(importance_type='gain')\n",
    "keys = list(feature_important.keys())\n",
    "values = list(feature_important.values())\n",
    "\n",
    "df_fim_xgboost = pd.DataFrame(data=values,\n",
    "                              index=keys,\n",
    "                              columns=[\"feature importance\"]) \\\n",
    "                   .reset_index()\n",
    "\n",
    "df_fim_xgboost['index'] = df_fim_xgboost['index'].map(xgb_dict)\n",
    "#df_fim_xgboost.drop(columns=['index'], inplace = True)\n",
    "df_fim_xgboost.set_index('index', inplace = True)\n",
    "df_fim_xgboost.sort_values(by = \"feature importance\", ascending=False)\n",
    "df_fim_xgboost[:10]"
   ]
  },
  {
   "cell_type": "code",
   "execution_count": 38,
   "metadata": {},
   "outputs": [
    {
     "data": {
      "image/png": "[encoded data removed]",
      "text/plain": [
       "<Figure size 360x288 with 1 Axes>"
      ]
     },
     "metadata": {
      "needs_background": "light"
     },
     "output_type": "display_data"
    }
   ],
   "source": [
    "plot_feature_importance(df_fim_xgboost, 'XG boost', 'xgb')"
   ]
  },
  {
   "cell_type": "code",
   "execution_count": 35,
   "metadata": {},
   "outputs": [
    {
     "data": {
      "text/html": [
       "<div>\n",
       "<style scoped>\n",
       "    .dataframe tbody tr th:only-of-type {\n",
       "        vertical-align: middle;\n",
       "    }\n",
       "\n",
       "    .dataframe tbody tr th {\n",
       "        vertical-align: top;\n",
       "    }\n",
       "\n",
       "    .dataframe thead th {\n",
       "        text-align: right;\n",
       "    }\n",
       "</style>\n",
       "<table border=\"1\" class=\"dataframe\">\n",
       "  <thead>\n",
       "    <tr style=\"text-align: right;\">\n",
       "      <th></th>\n",
       "      <th>index</th>\n",
       "      <th>logistic</th>\n",
       "      <th>random forest</th>\n",
       "      <th>xgboost</th>\n",
       "    </tr>\n",
       "  </thead>\n",
       "  <tbody>\n",
       "    <tr>\n",
       "      <th>0</th>\n",
       "      <td>views</td>\n",
       "      <td>46.338468</td>\n",
       "      <td>0.047162</td>\n",
       "      <td>2186.893669</td>\n",
       "    </tr>\n",
       "    <tr>\n",
       "      <th>1</th>\n",
       "      <td>view_price</td>\n",
       "      <td>13.482854</td>\n",
       "      <td>0.062982</td>\n",
       "      <td>151.282762</td>\n",
       "    </tr>\n",
       "    <tr>\n",
       "      <th>2</th>\n",
       "      <td>carts</td>\n",
       "      <td>8.067062</td>\n",
       "      <td>0.140968</td>\n",
       "      <td>18230.844513</td>\n",
       "    </tr>\n",
       "    <tr>\n",
       "      <th>3</th>\n",
       "      <td>price_min</td>\n",
       "      <td>0.832856</td>\n",
       "      <td>0.059672</td>\n",
       "      <td>293.876853</td>\n",
       "    </tr>\n",
       "    <tr>\n",
       "      <th>4</th>\n",
       "      <td>n_brands</td>\n",
       "      <td>-0.062618</td>\n",
       "      <td>0.007011</td>\n",
       "      <td>490.826547</td>\n",
       "    </tr>\n",
       "    <tr>\n",
       "      <th>5</th>\n",
       "      <td>weekday</td>\n",
       "      <td>-0.232797</td>\n",
       "      <td>0.018940</td>\n",
       "      <td>607.788854</td>\n",
       "    </tr>\n",
       "    <tr>\n",
       "      <th>6</th>\n",
       "      <td>hour</td>\n",
       "      <td>-0.480583</td>\n",
       "      <td>0.040150</td>\n",
       "      <td>399.321732</td>\n",
       "    </tr>\n",
       "    <tr>\n",
       "      <th>7</th>\n",
       "      <td>price_max</td>\n",
       "      <td>-1.281921</td>\n",
       "      <td>0.058512</td>\n",
       "      <td>229.183903</td>\n",
       "    </tr>\n",
       "    <tr>\n",
       "      <th>8</th>\n",
       "      <td>session_duration</td>\n",
       "      <td>-10.028295</td>\n",
       "      <td>0.236322</td>\n",
       "      <td>2936.869279</td>\n",
       "    </tr>\n",
       "    <tr>\n",
       "      <th>9</th>\n",
       "      <td>cart_price</td>\n",
       "      <td>-12.056084</td>\n",
       "      <td>0.154419</td>\n",
       "      <td>272.025630</td>\n",
       "    </tr>\n",
       "    <tr>\n",
       "      <th>10</th>\n",
       "      <td>n_products</td>\n",
       "      <td>-37.509517</td>\n",
       "      <td>0.038578</td>\n",
       "      <td>2503.707043</td>\n",
       "    </tr>\n",
       "  </tbody>\n",
       "</table>\n",
       "</div>"
      ],
      "text/plain": [
       "               index   logistic  random forest       xgboost\n",
       "0              views  46.338468       0.047162   2186.893669\n",
       "1         view_price  13.482854       0.062982    151.282762\n",
       "2              carts   8.067062       0.140968  18230.844513\n",
       "3          price_min   0.832856       0.059672    293.876853\n",
       "4           n_brands  -0.062618       0.007011    490.826547\n",
       "5            weekday  -0.232797       0.018940    607.788854\n",
       "6               hour  -0.480583       0.040150    399.321732\n",
       "7          price_max  -1.281921       0.058512    229.183903\n",
       "8   session_duration -10.028295       0.236322   2936.869279\n",
       "9         cart_price -12.056084       0.154419    272.025630\n",
       "10        n_products -37.509517       0.038578   2503.707043"
      ]
     },
     "execution_count": 35,
     "metadata": {},
     "output_type": "execute_result"
    }
   ],
   "source": [
    "df_fim = pd.merge(df_fim_logistic.reset_index(),\n",
    "                  df_fim_rf.reset_index(drop=True),\n",
    "                  on = 'index')\n",
    "df_fim = pd.merge(df_fim,\n",
    "                  df_fim_xgboost.reset_index(drop=True),\n",
    "                  on = 'index')\n",
    "df_fim.rename(columns = {'feature importance_x': 'logistic',\n",
    "                         'feature importance_y': 'random forest',\n",
    "                         'feature importance': 'xgboost',},\n",
    "              inplace = True)\n",
    "df_fim"
   ]
  },
  {
   "cell_type": "code",
   "execution_count": 47,
   "metadata": {},
   "outputs": [],
   "source": [
    "df_fim.to_csv('output/07_smartphone_feature_importance.csv', index = False)"
   ]
  },
  {
   "cell_type": "markdown",
   "metadata": {},
   "source": [
    "### Section 3.3  Summary <a class=\"anchor\" id=\"section_3_c\"></a> \n"
   ]
  },
  {
   "cell_type": "code",
   "execution_count": 39,
   "metadata": {},
   "outputs": [
    {
     "name": "stdout",
     "output_type": "stream",
     "text": [
      "Wall time: 560 ms\n"
     ]
    }
   ],
   "source": [
    "%%time\n",
    "y_pred = clfr.predict(X_test)"
   ]
  },
  {
   "cell_type": "markdown",
   "metadata": {},
   "source": [
    "Some algorithms (logistic and ridge) tend to optimise \"recall\" score, and in these models there are many false positive cases. On the other hand, ensamble models tend to score better in \"precision\" but result in poor false negative. XGboost model achieved a more balance between \"precision\" and \"recall\" scores, and hence with a highest \"f1 score\" of 73.7%"
   ]
  },
  {
   "cell_type": "code",
   "execution_count": null,
   "metadata": {},
   "outputs": [],
   "source": []
  }
 ],
 "metadata": {
  "kernelspec": {
   "display_name": "Python 3",
   "language": "python",
   "name": "python3"
  },
  "language_info": {
   "codemirror_mode": {
    "name": "ipython",
    "version": 3
   },
   "file_extension": ".py",
   "mimetype": "text/x-python",
   "name": "python",
   "nbconvert_exporter": "python",
   "pygments_lexer": "ipython3",
   "version": "3.8.3"
  }
 },
 "nbformat": 4,
 "nbformat_minor": 4
}
